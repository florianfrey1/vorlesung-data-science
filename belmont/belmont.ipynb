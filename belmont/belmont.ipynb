{
 "cells": [
  {
   "cell_type": "code",
   "execution_count": 1,
   "metadata": {},
   "outputs": [],
   "source": [
    "import pandas as pd\n",
    "import matplotlib.pyplot as plt\n",
    "import seaborn as sns\n",
    "import numpy as np\n",
    "import sys\n",
    "from scipy.stats import norm\n",
    "import scipy.stats as stats\n",
    "import pylab as pl\n",
    "from datetime import datetime\n",
    "\n",
    "belmont = pd.read_csv(\"belmont.csv\", sep = ';', decimal= \",\")"
   ]
  },
  {
   "cell_type": "code",
   "execution_count": 2,
   "metadata": {},
   "outputs": [
    {
     "data": {
      "text/html": [
       "<div>\n",
       "<style scoped>\n",
       "    .dataframe tbody tr th:only-of-type {\n",
       "        vertical-align: middle;\n",
       "    }\n",
       "\n",
       "    .dataframe tbody tr th {\n",
       "        vertical-align: top;\n",
       "    }\n",
       "\n",
       "    .dataframe thead th {\n",
       "        text-align: right;\n",
       "    }\n",
       "</style>\n",
       "<table border=\"1\" class=\"dataframe\">\n",
       "  <thead>\n",
       "    <tr style=\"text-align: right;\">\n",
       "      <th></th>\n",
       "      <th>Year</th>\n",
       "      <th>Winner</th>\n",
       "      <th>Jockey</th>\n",
       "      <th>Trainer</th>\n",
       "      <th>Owner</th>\n",
       "      <th>Time</th>\n",
       "      <th>Miliseconds</th>\n",
       "      <th>Track</th>\n",
       "      <th>miles</th>\n",
       "      <th>Unnamed: 9</th>\n",
       "    </tr>\n",
       "  </thead>\n",
       "  <tbody>\n",
       "    <tr>\n",
       "      <th>0</th>\n",
       "      <td>2016</td>\n",
       "      <td>Creator</td>\n",
       "      <td>Irad Ortiz, Jr</td>\n",
       "      <td>Steve Asmussen</td>\n",
       "      <td>WinStar Farm LLC</td>\n",
       "      <td>2:28.51</td>\n",
       "      <td>148.51</td>\n",
       "      <td>Belmont</td>\n",
       "      <td>01. Mai</td>\n",
       "      <td>28.0</td>\n",
       "    </tr>\n",
       "    <tr>\n",
       "      <th>1</th>\n",
       "      <td>2015</td>\n",
       "      <td>American Pharoah</td>\n",
       "      <td>Victor Espinoza</td>\n",
       "      <td>Bob Baffert</td>\n",
       "      <td>Zayat Stables, LLC</td>\n",
       "      <td>2:26.65</td>\n",
       "      <td>146.65</td>\n",
       "      <td>Belmont</td>\n",
       "      <td>01. Mai</td>\n",
       "      <td>NaN</td>\n",
       "    </tr>\n",
       "    <tr>\n",
       "      <th>2</th>\n",
       "      <td>2014</td>\n",
       "      <td>Tonalist</td>\n",
       "      <td>Joel Rosario</td>\n",
       "      <td>Christophe Clement</td>\n",
       "      <td>Robert S. Evans</td>\n",
       "      <td>2:28.52</td>\n",
       "      <td>148.52</td>\n",
       "      <td>Belmont</td>\n",
       "      <td>01. Mai</td>\n",
       "      <td>NaN</td>\n",
       "    </tr>\n",
       "    <tr>\n",
       "      <th>3</th>\n",
       "      <td>2013</td>\n",
       "      <td>Palace Malice</td>\n",
       "      <td>Mike Smith</td>\n",
       "      <td>Todd Pletcher</td>\n",
       "      <td>Dogwood Stable</td>\n",
       "      <td>2:30.70</td>\n",
       "      <td>150.70</td>\n",
       "      <td>Belmont</td>\n",
       "      <td>01. Mai</td>\n",
       "      <td>NaN</td>\n",
       "    </tr>\n",
       "    <tr>\n",
       "      <th>4</th>\n",
       "      <td>2012</td>\n",
       "      <td>Union Rags</td>\n",
       "      <td>John Velazquez</td>\n",
       "      <td>Michael Matz</td>\n",
       "      <td>Phyllis M. Wyeth</td>\n",
       "      <td>2:30.42</td>\n",
       "      <td>150.42</td>\n",
       "      <td>Belmont</td>\n",
       "      <td>01. Mai</td>\n",
       "      <td>NaN</td>\n",
       "    </tr>\n",
       "  </tbody>\n",
       "</table>\n",
       "</div>"
      ],
      "text/plain": [
       "   Year            Winner           Jockey             Trainer  \\\n",
       "0  2016           Creator   Irad Ortiz, Jr      Steve Asmussen   \n",
       "1  2015  American Pharoah  Victor Espinoza         Bob Baffert   \n",
       "2  2014          Tonalist     Joel Rosario  Christophe Clement   \n",
       "3  2013     Palace Malice       Mike Smith       Todd Pletcher   \n",
       "4  2012        Union Rags   John Velazquez        Michael Matz   \n",
       "\n",
       "                Owner     Time  Miliseconds    Track    miles  Unnamed: 9  \n",
       "0    WinStar Farm LLC  2:28.51       148.51  Belmont  01. Mai        28.0  \n",
       "1  Zayat Stables, LLC  2:26.65       146.65  Belmont  01. Mai         NaN  \n",
       "2     Robert S. Evans  2:28.52       148.52  Belmont  01. Mai         NaN  \n",
       "3      Dogwood Stable  2:30.70       150.70  Belmont  01. Mai         NaN  \n",
       "4    Phyllis M. Wyeth  2:30.42       150.42  Belmont  01. Mai         NaN  "
      ]
     },
     "execution_count": 2,
     "metadata": {},
     "output_type": "execute_result"
    }
   ],
   "source": [
    "belmont.head()"
   ]
  },
  {
   "cell_type": "markdown",
   "metadata": {},
   "source": [
    "Convert column \"Time\" to milliseconds as well as seconds. The existing column \"Miliseconds\" should be renamed to \"Seconds\"."
   ]
  },
  {
   "cell_type": "code",
   "execution_count": 3,
   "metadata": {},
   "outputs": [
    {
     "name": "stdout",
     "output_type": "stream",
     "text": [
      "milliseconds: [148510. 146650. 148520. 150700. 150420. 150880. 151570. 147540. 149650.\n",
      " 148740. 147860. 148750. 147500. 148260. 149710. 146560. 151190. 147880.\n",
      " 149160. 148820. 148960. 152020. 146820. 149970. 146130. 148100. 147200.\n",
      " 146000. 146400. 148200. 149800. 147000. 147200. 147800. 148200. 149000.\n",
      " 149800. 148600. 146800. 149600. 149000. 148200. 149200. 144000. 148000.\n",
      " 150400. 154000. 148800. 147200. 148800. 149600. 148400. 148400. 150200.\n",
      " 148800. 149200. 149200. 148400. 150200. 146600. 149800. 149000. 150800.\n",
      " 148600. 150200. 149000. 148600. 150200. 148200. 149400. 150800. 150200.\n",
      " 152200. 148200. 149200. 151000. 149600. 149600. 149400. 148600. 150000.\n",
      " 150600. 149200. 152600. 152800. 149600. 151600. 152800. 153200. 152400.\n",
      " 152200.]\n",
      "seconds: [148510. 146650. 148520. 150700. 150420. 150880. 151570. 147540. 149650.\n",
      " 148740. 147860. 148750. 147500. 148260. 149710. 146560. 151190. 147880.\n",
      " 149160. 148820. 148960. 152020. 146820. 149970. 146130. 148100. 147200.\n",
      " 146000. 146400. 148200. 149800. 147000. 147200. 147800. 148200. 149000.\n",
      " 149800. 148600. 146800. 149600. 149000. 148200. 149200. 144000. 148000.\n",
      " 150400. 154000. 148800. 147200. 148800. 149600. 148400. 148400. 150200.\n",
      " 148800. 149200. 149200. 148400. 150200. 146600. 149800. 149000. 150800.\n",
      " 148600. 150200. 149000. 148600. 150200. 148200. 149400. 150800. 150200.\n",
      " 152200. 148200. 149200. 151000. 149600. 149600. 149400. 148600. 150000.\n",
      " 150600. 149200. 152600. 152800. 149600. 151600. 152800. 153200. 152400.\n",
      " 152200.]\n"
     ]
    }
   ],
   "source": [
    "def convertTimeToMilliseconds(time):\n",
    "    \"\"\"Convert datetime.time to milliseconds\"\"\"\n",
    "    return time.minute * 6e4 + time.second * 1e3 + time.microsecond * 1e-3\n",
    "\n",
    "def convertTimeToSeconds(time):\n",
    "    \"\"\"Convert datetime.time to seconds and round to three decimal places\"\"\"\n",
    "    return round(convertTimeToMilliseconds(time) * 1e-3, 3)\n",
    "\n",
    "# convert column \"Time\" to milliseconds and seconds\n",
    "milliseconds = np.array([convertTimeToMilliseconds(t) for t in pd.to_datetime(belmont['Time'], format='%M:%S.%f').dt.time])\n",
    "seconds = np.array([convertTimeToMilliseconds(t) for t in pd.to_datetime(belmont['Time'], format='%M:%S.%f').dt.time])\n",
    "\n",
    "# print the result\n",
    "print(f'milliseconds: {milliseconds}')\n",
    "print(f'seconds: {seconds}')"
   ]
  },
  {
   "cell_type": "markdown",
   "metadata": {},
   "source": [
    "Find outliers for the calculated milliseconds via a boxplot:"
   ]
  },
  {
   "cell_type": "code",
   "execution_count": 4,
   "metadata": {},
   "outputs": [
    {
     "name": "stdout",
     "output_type": "stream",
     "text": [
      "outliers: [144000.0, 154000.0]\n"
     ]
    },
    {
     "data": {
      "image/png": "[encoded data removed]",
      "text/plain": [
       "<Figure size 216x720 with 1 Axes>"
      ]
     },
     "metadata": {
      "needs_background": "light"
     },
     "output_type": "display_data"
    }
   ],
   "source": [
    "# finding the 1st quartile\n",
    "q1 = np.quantile(milliseconds, 0.25)\n",
    " \n",
    "# finding the 3rd quartile\n",
    "q3 = np.quantile(milliseconds, 0.75)\n",
    "med = np.median(milliseconds)\n",
    " \n",
    "# finding the iqr region\n",
    "iqr = q3 - q1\n",
    " \n",
    "# finding upper and lower whiskers\n",
    "upper_bound = q3 + (1.5 * iqr)\n",
    "lower_bound = q1 - (1.5 * iqr)\n",
    "\n",
    "# find the outliers using the lower und upper bound\n",
    "outliers = milliseconds[(milliseconds < lower_bound) | (milliseconds > upper_bound)]\n",
    "\n",
    "# print the outliers\n",
    "print(f'outliers: {outliers.tolist()}')\n",
    "\n",
    "# show the result as a swarm box plot\n",
    "fig, ax = plt.subplots(figsize=(3, 10))\n",
    "_ = sns.boxplot(data=milliseconds, ax=ax)\n",
    "_ = sns.swarmplot(data=milliseconds, ax=ax,color=\".2\")\n",
    "_ = ax.set_title('Box plot of race times')\n",
    "_ = ax.set_xlabel('Race time')\n",
    "_ = ax.set_ylabel('Milliseconds')"
   ]
  },
  {
   "cell_type": "markdown",
   "metadata": {},
   "source": [
    "**Excersice for exponential distribution**: When can we expect a horse in the future that is as fast or faster than Secretariat?"
   ]
  },
  {
   "cell_type": "code",
   "execution_count": 5,
   "metadata": {},
   "outputs": [
    {
     "data": {
      "text/html": [
       "<div>\n",
       "<style scoped>\n",
       "    .dataframe tbody tr th:only-of-type {\n",
       "        vertical-align: middle;\n",
       "    }\n",
       "\n",
       "    .dataframe tbody tr th {\n",
       "        vertical-align: top;\n",
       "    }\n",
       "\n",
       "    .dataframe thead th {\n",
       "        text-align: right;\n",
       "    }\n",
       "</style>\n",
       "<table border=\"1\" class=\"dataframe\">\n",
       "  <thead>\n",
       "    <tr style=\"text-align: right;\">\n",
       "      <th></th>\n",
       "      <th>Date</th>\n",
       "      <th>Horse</th>\n",
       "      <th>Fin</th>\n",
       "      <th>Track</th>\n",
       "      <th>Distance</th>\n",
       "      <th>Sf</th>\n",
       "      <th>Race</th>\n",
       "      <th>Cnd</th>\n",
       "      <th>1st</th>\n",
       "      <th>2nd</th>\n",
       "      <th>3rd</th>\n",
       "      <th>Time</th>\n",
       "    </tr>\n",
       "  </thead>\n",
       "  <tbody>\n",
       "    <tr>\n",
       "      <th>0</th>\n",
       "      <td>10/28/1973</td>\n",
       "      <td>Secretariat</td>\n",
       "      <td>1st</td>\n",
       "      <td>WO</td>\n",
       "      <td>1 5/8 m</td>\n",
       "      <td>T</td>\n",
       "      <td>Canadian International -G1</td>\n",
       "      <td>3+</td>\n",
       "      <td>Secretariat</td>\n",
       "      <td>Big Spruce</td>\n",
       "      <td>Golden Don</td>\n",
       "      <td>2:41.80</td>\n",
       "    </tr>\n",
       "    <tr>\n",
       "      <th>1</th>\n",
       "      <td>10/08/1973</td>\n",
       "      <td>Secretariat</td>\n",
       "      <td>1st</td>\n",
       "      <td>Bel</td>\n",
       "      <td>1 1/2m</td>\n",
       "      <td>T</td>\n",
       "      <td>Man O' War Stakes-G1</td>\n",
       "      <td>3+</td>\n",
       "      <td>Secretariat</td>\n",
       "      <td>Tentam</td>\n",
       "      <td>Big Spruce</td>\n",
       "      <td>2:24.80</td>\n",
       "    </tr>\n",
       "    <tr>\n",
       "      <th>2</th>\n",
       "      <td>09/29/1973</td>\n",
       "      <td>Secretariat</td>\n",
       "      <td>2nd</td>\n",
       "      <td>Bel</td>\n",
       "      <td>1 1/2m</td>\n",
       "      <td>D</td>\n",
       "      <td>Woodward-G1</td>\n",
       "      <td>3+</td>\n",
       "      <td>Prove Out</td>\n",
       "      <td>Secretariat</td>\n",
       "      <td>Cougar II</td>\n",
       "      <td>2:25.80</td>\n",
       "    </tr>\n",
       "    <tr>\n",
       "      <th>3</th>\n",
       "      <td>09/15/1973</td>\n",
       "      <td>Secretariat</td>\n",
       "      <td>1st</td>\n",
       "      <td>Bel</td>\n",
       "      <td>1 1/8 m</td>\n",
       "      <td>D</td>\n",
       "      <td>Marlboro Cup Invitational Handicap-G1</td>\n",
       "      <td>3+</td>\n",
       "      <td>Secretariat</td>\n",
       "      <td>Riva Ridge</td>\n",
       "      <td>Cougar II</td>\n",
       "      <td>1:45.40</td>\n",
       "    </tr>\n",
       "    <tr>\n",
       "      <th>4</th>\n",
       "      <td>08/04/1973</td>\n",
       "      <td>Secretariat</td>\n",
       "      <td>2nd</td>\n",
       "      <td>Sar</td>\n",
       "      <td>1 1/8 m</td>\n",
       "      <td>D</td>\n",
       "      <td>Whitney-G2</td>\n",
       "      <td>3+</td>\n",
       "      <td>Onion</td>\n",
       "      <td>Secretariat</td>\n",
       "      <td>Rule By Reason</td>\n",
       "      <td>1:49.20</td>\n",
       "    </tr>\n",
       "  </tbody>\n",
       "</table>\n",
       "</div>"
      ],
      "text/plain": [
       "         Date        Horse  Fin Track Distance Sf  \\\n",
       "0  10/28/1973  Secretariat  1st    WO  1 5/8 m  T   \n",
       "1  10/08/1973  Secretariat  1st   Bel   1 1/2m  T   \n",
       "2  09/29/1973  Secretariat  2nd   Bel   1 1/2m  D   \n",
       "3  09/15/1973  Secretariat  1st   Bel  1 1/8 m  D   \n",
       "4  08/04/1973  Secretariat  2nd   Sar  1 1/8 m  D   \n",
       "\n",
       "                                    Race Cnd          1st          2nd  \\\n",
       "0             Canadian International -G1  3+  Secretariat   Big Spruce   \n",
       "1                   Man O' War Stakes-G1  3+  Secretariat       Tentam   \n",
       "2                            Woodward-G1  3+    Prove Out  Secretariat   \n",
       "3  Marlboro Cup Invitational Handicap-G1  3+  Secretariat   Riva Ridge   \n",
       "4                             Whitney-G2  3+        Onion  Secretariat   \n",
       "\n",
       "              3rd     Time  \n",
       "0      Golden Don  2:41.80  \n",
       "1      Big Spruce  2:24.80  \n",
       "2       Cougar II  2:25.80  \n",
       "3       Cougar II  1:45.40  \n",
       "4  Rule By Reason  1:49.20  "
      ]
     },
     "execution_count": 5,
     "metadata": {},
     "output_type": "execute_result"
    }
   ],
   "source": [
    "# Loading additional data with all the races that the horse secretariat has completed.\n",
    "# source: https://www.horseracingnation.com/horse/Secretariat\n",
    "secretariat = pd.read_csv(\"secretariat.csv\", sep = ';')\n",
    "secretariat.head()"
   ]
  },
  {
   "cell_type": "code",
   "execution_count": 6,
   "metadata": {},
   "outputs": [
    {
     "name": "stdout",
     "output_type": "stream",
     "text": [
      "Secretariat made the 1st place in 16 races within 1.32 years.\n",
      "This equals to 12.12 won races in a one year period.\n"
     ]
    }
   ],
   "source": [
    "# Get all 1st places of secretariat\n",
    "firstPlacesOfSecretariat = secretariat[secretariat[\"Fin\"] == \"1st\"]\n",
    "\n",
    "# Format the date column\n",
    "secretariat[\"Date\"] = pd.to_datetime(secretariat[\"Date\"], format='%m/%d/%Y')\n",
    "\n",
    "# Calculate the time range of the 1st place wins\n",
    "timeRangeInYears = round((secretariat['Date'].max() - secretariat['Date'].min()) / np.timedelta64(1, 'Y'), 2)\n",
    "\n",
    "# Calculate the mean of won races per year\n",
    "wonRacesInOneYear = round(len(firstPlacesOfSecretariat) / timeRangeInYears, 2)\n",
    "\n",
    "# Output of the found values\n",
    "print(f'Secretariat made the 1st place in {len(firstPlacesOfSecretariat)} races within {timeRangeInYears} years.')\n",
    "print(f'This equals to {wonRacesInOneYear} won races in a one year period.')"
   ]
  },
  {
   "cell_type": "code",
   "execution_count": 7,
   "metadata": {},
   "outputs": [
    {
     "data": {
      "image/png": "[encoded data removed]",
      "text/plain": [
       "<Figure size 432x288 with 1 Axes>"
      ]
     },
     "metadata": {
      "needs_background": "light"
     },
     "output_type": "display_data"
    }
   ],
   "source": [
    "# Draw samples of waiting years\n",
    "waitingYears = np.random.exponential(wonRacesInOneYear, size=100000)\n",
    "\n",
    "# Make the histogram\n",
    "_ = plt.hist(waitingYears, bins=100, histtype='step', density=True)\n",
    "\n",
    "# Label axes\n",
    "_ = plt.xlabel('Waiting Time (Years)')\n",
    "_ = plt.ylabel('PDF')\n",
    "\n",
    "# Show the plot\n",
    "plt.show()"
   ]
  },
  {
   "cell_type": "code",
   "execution_count": 8,
   "metadata": {},
   "outputs": [
    {
     "data": {
      "image/png": "[encoded data removed]",
      "text/plain": [
       "<Figure size 432x288 with 1 Axes>"
      ]
     },
     "metadata": {
      "needs_background": "light"
     },
     "output_type": "display_data"
    },
    {
     "name": "stdout",
     "output_type": "stream",
     "text": [
      "With a probability of 80 percent we see a horse that is as fast or faster than secretariat in 19.5 years.\n",
      "With a probability of 90 percent we see a horse that is as fast or faster than secretariat in 27.9 years.\n",
      "With a probability of 95 percent we see a horse that is as fast or faster than secretariat in 36.1 years.\n",
      "With a probability of 99 percent we see a horse that is as fast or faster than secretariat in 55.7 years.\n"
     ]
    }
   ],
   "source": [
    "def cdf(df):\n",
    "    \"\"\"Cumulative distribution function.\"\"\"\n",
    "    sq = df.value_counts()\n",
    "    return sq.sort_index().cumsum()*1./len(sq)\n",
    "\n",
    "# Calculate the cdf\n",
    "cd = cdf(pd.DataFrame(waitingYears))\n",
    "\n",
    "# Make the plot\n",
    "_ = plt.plot(cd.index.tolist(), cd.tolist())\n",
    "_ = plt.ylabel(\"CDF\")\n",
    "_ = plt.xlabel(\"Years\")\n",
    "\n",
    "# Show the plot\n",
    "plt.show()\n",
    "\n",
    "# Output of certain time spans for interesting probabilities\n",
    "for p in [.8, .9, .95, .99]:\n",
    "    print(\n",
    "        f'With a probability of {(int)(p * 100)} percent we see a horse that is as fast or faster than secretariat in {round(cd[cd.gt(p)].index[0][0], 1)} years.')"
   ]
  }
 ],
 "metadata": {
  "interpreter": {
   "hash": "ef050d98baf1a04b7341ebc7c21d071ed7b8f1f56af7f003c88b42eab5237ce8"
  },
  "kernelspec": {
   "display_name": "Python 3.8.8 64-bit ('base': conda)",
   "name": "python3"
  },
  "language_info": {
   "codemirror_mode": {
    "name": "ipython",
    "version": 3
   },
   "file_extension": ".py",
   "mimetype": "text/x-python",
   "name": "python",
   "nbconvert_exporter": "python",
   "pygments_lexer": "ipython3",
   "version": "3.8.8"
  },
  "orig_nbformat": 4
 },
 "nbformat": 4,
 "nbformat_minor": 2
}
